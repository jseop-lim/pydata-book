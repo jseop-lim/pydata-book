{
    "cells": [
        {
            "cell_type": "code",
            "execution_count": 2,
            "source": [
                "import numpy as np"
            ],
            "outputs": [],
            "metadata": {}
        },
        {
            "cell_type": "code",
            "execution_count": 3,
            "source": [
                "lst2d = [[1, 2, 3], [4, 5, 6], [7, 8, 9]]"
            ],
            "outputs": [],
            "metadata": {}
        },
        {
            "cell_type": "code",
            "execution_count": 4,
            "source": [
                "arr2d = np.arange(1, 10).reshape(3, 3)\r\n",
                "arr2d"
            ],
            "outputs": [
                {
                    "output_type": "execute_result",
                    "data": {
                        "text/plain": [
                            "array([[1, 2, 3],\n",
                            "       [4, 5, 6],\n",
                            "       [7, 8, 9]])"
                        ]
                    },
                    "metadata": {},
                    "execution_count": 4
                }
            ],
            "metadata": {}
        },
        {
            "cell_type": "code",
            "execution_count": 5,
            "source": [
                "# 파이썬 2차원 리스트의 원소별 접근\r\n",
                "lst2d = [[c*11 for c in r] for r in lst2d]\r\n",
                "lst2d"
            ],
            "outputs": [
                {
                    "output_type": "execute_result",
                    "data": {
                        "text/plain": [
                            "[[11, 22, 33], [44, 55, 66], [77, 88, 99]]"
                        ]
                    },
                    "metadata": {},
                    "execution_count": 5
                }
            ],
            "metadata": {}
        },
        {
            "cell_type": "markdown",
            "source": [
                "## 슬라이싱과 인덱싱의 차원 차이\r\n",
                "\r\n",
                "아래 연속한 두 코드는 같은 결과를 반환하는 듯 보이지만, 인덱싱은 차원을 하나 낮추는 효과가 있는 반면 슬라이싱은 원래 배열의 차원을 유지한다.\r\n",
                "\r\n",
                "즉, ndim이 달라진다."
            ],
            "metadata": {}
        },
        {
            "cell_type": "code",
            "execution_count": 6,
            "source": [
                "print(arr2d[:, 1:2])\r\n",
                "print(arr2d[:, 1])\r\n",
                "print()\r\n",
                "\r\n",
                "print(arr2d[1:2, :])\r\n",
                "print(arr2d[1, :])\r\n"
            ],
            "outputs": [
                {
                    "output_type": "stream",
                    "name": "stdout",
                    "text": [
                        "[[2]\n",
                        " [5]\n",
                        " [8]]\n",
                        "[2 5 8]\n",
                        "\n",
                        "[[4 5 6]]\n",
                        "[4 5 6]\n"
                    ]
                }
            ],
            "metadata": {}
        },
        {
            "cell_type": "markdown",
            "source": [
                "## sum 함수의 매개변수 axis\r\n",
                "\r\n",
                "ndarray에서 axis 번호는 겉에 있는 순서대로 0부터 시작한다.\r\n",
                "예를 들어, 2차원 배열에서 행은 0, 열은 1이다.\r\n",
                "\r\n",
                "axis 번호에 해당하는 축의 방향으로 연산을 진행한다."
            ],
            "metadata": {}
        },
        {
            "cell_type": "code",
            "execution_count": 7,
            "source": [
                "arr3d = np.arange(27).reshape(3,3,3)\r\n",
                "print(arr3d); print()\r\n",
                "\r\n",
                "print(arr3d.sum(axis=0))\r\n",
                "print(np.sum(arr3d, axis=0))"
            ],
            "outputs": [
                {
                    "output_type": "stream",
                    "name": "stdout",
                    "text": [
                        "[[[ 0  1  2]\n",
                        "  [ 3  4  5]\n",
                        "  [ 6  7  8]]\n",
                        "\n",
                        " [[ 9 10 11]\n",
                        "  [12 13 14]\n",
                        "  [15 16 17]]\n",
                        "\n",
                        " [[18 19 20]\n",
                        "  [21 22 23]\n",
                        "  [24 25 26]]]\n",
                        "\n",
                        "[[27 30 33]\n",
                        " [36 39 42]\n",
                        " [45 48 51]]\n",
                        "[[27 30 33]\n",
                        " [36 39 42]\n",
                        " [45 48 51]]\n"
                    ]
                }
            ],
            "metadata": {}
        },
        {
            "cell_type": "code",
            "execution_count": 8,
            "source": [
                "np.array(arr2d.flat)"
            ],
            "outputs": [
                {
                    "output_type": "execute_result",
                    "data": {
                        "text/plain": [
                            "array([1, 2, 3, 4, 5, 6, 7, 8, 9])"
                        ]
                    },
                    "metadata": {},
                    "execution_count": 8
                }
            ],
            "metadata": {}
        },
        {
            "cell_type": "code",
            "execution_count": 9,
            "source": [
                "a = np.array([1, 2])\r\n",
                "b = np.array([3, 4])\r\n",
                "\r\n",
                "print(np.hstack((a, b)))\r\n",
                "print(np.column_stack((a, b)))"
            ],
            "outputs": [
                {
                    "output_type": "stream",
                    "name": "stdout",
                    "text": [
                        "[1 2 3 4]\n",
                        "[[1 3]\n",
                        " [2 4]]\n"
                    ]
                }
            ],
            "metadata": {}
        },
        {
            "cell_type": "code",
            "execution_count": 10,
            "source": [
                "arr2d\r\n",
                "arr2d[[True, False, False]]"
            ],
            "outputs": [
                {
                    "output_type": "execute_result",
                    "data": {
                        "text/plain": [
                            "array([[1, 2, 3]])"
                        ]
                    },
                    "metadata": {},
                    "execution_count": 10
                }
            ],
            "metadata": {}
        },
        {
            "cell_type": "code",
            "execution_count": 11,
            "source": [
                "names = np.array([1, 2, 3])\r\n",
                "mask = (names == 1) | (names == 2)\r\n",
                "\r\n",
                "mask = ~mask\r\n",
                "mask"
            ],
            "outputs": [
                {
                    "output_type": "execute_result",
                    "data": {
                        "text/plain": [
                            "array([False, False,  True])"
                        ]
                    },
                    "metadata": {},
                    "execution_count": 11
                }
            ],
            "metadata": {}
        },
        {
            "cell_type": "code",
            "execution_count": 12,
            "source": [
                "arr = np.arange(6).reshape(3, 2)\r\n",
                "print(arr)\r\n",
                "print(np.where([True, False, True]))\r\n",
                "print(np.where([True, False, True], 1, [True, True, False]))"
            ],
            "outputs": [
                {
                    "output_type": "stream",
                    "name": "stdout",
                    "text": [
                        "[[0 1]\n",
                        " [2 3]\n",
                        " [4 5]]\n",
                        "(array([0, 2], dtype=int64),)\n",
                        "[1 1 1]\n"
                    ]
                }
            ],
            "metadata": {}
        },
        {
            "cell_type": "code",
            "execution_count": 13,
            "source": [
                "np.split(arr2d, [1], axis=0)\r\n",
                "np.hsplit(arr2d, [1])"
            ],
            "outputs": [
                {
                    "output_type": "execute_result",
                    "data": {
                        "text/plain": [
                            "[array([[1],\n",
                            "        [4],\n",
                            "        [7]]),\n",
                            " array([[2, 3],\n",
                            "        [5, 6],\n",
                            "        [8, 9]])]"
                        ]
                    },
                    "metadata": {},
                    "execution_count": 13
                }
            ],
            "metadata": {}
        },
        {
            "cell_type": "code",
            "execution_count": 14,
            "source": [
                "arr = np.arange(6)\r\n",
                "\r\n",
                "arr1 = arr.reshape(3, 2)\r\n",
                "arr2 = np.random.randn(3, 2)\r\n",
                "\r\n",
                "np.r_[arr1, arr2]"
            ],
            "outputs": [
                {
                    "output_type": "execute_result",
                    "data": {
                        "text/plain": [
                            "array([[ 0.        ,  1.        ],\n",
                            "       [ 2.        ,  3.        ],\n",
                            "       [ 4.        ,  5.        ],\n",
                            "       [-0.3993944 ,  2.0251621 ],\n",
                            "       [ 1.06218309,  1.8079409 ],\n",
                            "       [ 0.97008069,  0.49478751]])"
                        ]
                    },
                    "metadata": {},
                    "execution_count": 14
                }
            ],
            "metadata": {}
        },
        {
            "cell_type": "code",
            "execution_count": 15,
            "source": [
                "a = np.array([1, 2])\r\n",
                "b = np.array([3, 4])\r\n",
                "\r\n",
                "# np.r_[]\r\n",
                "# []를 array 주변에 씌우면 차원이 하나 늘어난 array가 반환된다.\r\n",
                "print(np.r_[[a], [b]])\r\n",
                "\r\n",
                "# []를 씌우지 않으면 기존 array와 같은 차원의 array가 반환된다.\r\n",
                "print(np.r_[a, b])\r\n",
                "\r\n",
                "# np.c_[]\r\n",
                "print(np.c_[a, b])\r\n",
                "print(np.c_[[a], [b]])"
            ],
            "outputs": [
                {
                    "output_type": "stream",
                    "name": "stdout",
                    "text": [
                        "[[1 2]\n",
                        " [3 4]]\n",
                        "[1 2 3 4]\n",
                        "[[1 3]\n",
                        " [2 4]]\n",
                        "[[1 2 3 4]]\n"
                    ]
                }
            ],
            "metadata": {}
        },
        {
            "cell_type": "code",
            "execution_count": 16,
            "source": [
                "Value = np.array([[1,2,3,4],[2,5,6,7],[8,9,10,11],[12,13,14,15]])\r\n",
                " \r\n",
                "Value1 = np.array([1])\r\n",
                " \r\n",
                "Value2 = np.array([3,3,3,3])\r\n",
                " \r\n",
                "Value3 = np.array([4,5,6,7]).reshape(4,1)\r\n",
                " \r\n",
                "print(Value + Value1) #4x4 + 1\r\n",
                " \r\n",
                "print(Value + Value2) #4x4 + 1x4\r\n",
                " \r\n",
                "print(Value2 + Value3) #1x4 + 4x1\r\n"
            ],
            "outputs": [
                {
                    "output_type": "stream",
                    "name": "stdout",
                    "text": [
                        "[[ 2  3  4  5]\n",
                        " [ 3  6  7  8]\n",
                        " [ 9 10 11 12]\n",
                        " [13 14 15 16]]\n",
                        "[[ 4  5  6  7]\n",
                        " [ 5  8  9 10]\n",
                        " [11 12 13 14]\n",
                        " [15 16 17 18]]\n",
                        "[[ 7  7  7  7]\n",
                        " [ 8  8  8  8]\n",
                        " [ 9  9  9  9]\n",
                        " [10 10 10 10]]\n"
                    ]
                }
            ],
            "metadata": {}
        },
        {
            "cell_type": "code",
            "execution_count": 18,
            "source": [
                "arr1 = np.array([[1, 2, 3], [4, 5, 6]])\r\n",
                "arr2 = np.array([[3, 4], [3, 5], [3, 5]])\r\n",
                "\r\n",
                "print(arr1 + arr2)"
            ],
            "outputs": [
                {
                    "output_type": "error",
                    "ename": "ValueError",
                    "evalue": "operands could not be broadcast together with shapes (2,3) (3,2) ",
                    "traceback": [
                        "\u001b[1;31m---------------------------------------------------------------------------\u001b[0m",
                        "\u001b[1;31mValueError\u001b[0m                                Traceback (most recent call last)",
                        "\u001b[1;32m<ipython-input-18-4aa940a22b8b>\u001b[0m in \u001b[0;36m<module>\u001b[1;34m\u001b[0m\n\u001b[0;32m      2\u001b[0m \u001b[0marr2\u001b[0m \u001b[1;33m=\u001b[0m \u001b[0mnp\u001b[0m\u001b[1;33m.\u001b[0m\u001b[0marray\u001b[0m\u001b[1;33m(\u001b[0m\u001b[1;33m[\u001b[0m\u001b[1;33m[\u001b[0m\u001b[1;36m3\u001b[0m\u001b[1;33m,\u001b[0m \u001b[1;36m4\u001b[0m\u001b[1;33m]\u001b[0m\u001b[1;33m,\u001b[0m \u001b[1;33m[\u001b[0m\u001b[1;36m3\u001b[0m\u001b[1;33m,\u001b[0m \u001b[1;36m5\u001b[0m\u001b[1;33m]\u001b[0m\u001b[1;33m,\u001b[0m \u001b[1;33m[\u001b[0m\u001b[1;36m3\u001b[0m\u001b[1;33m,\u001b[0m \u001b[1;36m5\u001b[0m\u001b[1;33m]\u001b[0m\u001b[1;33m]\u001b[0m\u001b[1;33m)\u001b[0m\u001b[1;33m\u001b[0m\u001b[1;33m\u001b[0m\u001b[0m\n\u001b[0;32m      3\u001b[0m \u001b[1;33m\u001b[0m\u001b[0m\n\u001b[1;32m----> 4\u001b[1;33m \u001b[0mprint\u001b[0m\u001b[1;33m(\u001b[0m\u001b[0marr1\u001b[0m \u001b[1;33m+\u001b[0m \u001b[0marr2\u001b[0m\u001b[1;33m)\u001b[0m\u001b[1;33m\u001b[0m\u001b[1;33m\u001b[0m\u001b[0m\n\u001b[0m",
                        "\u001b[1;31mValueError\u001b[0m: operands could not be broadcast together with shapes (2,3) (3,2) "
                    ]
                }
            ],
            "metadata": {}
        },
        {
            "cell_type": "code",
            "execution_count": 35,
            "source": [
                "np.random.seed(12346)\r\n",
                "\r\n",
                "arr = np.random.randint(100, size=(5, 5))\r\n",
                "print(arr, '\\n')\r\n",
                "print(arr[::2], '\\n')\r\n",
                "arr[::2].sort(0)\r\n",
                "print(arr[::2], '\\n')\r\n",
                "arr"
            ],
            "outputs": [
                {
                    "output_type": "stream",
                    "name": "stdout",
                    "text": [
                        "[[31 44 20 29 78]\n",
                        " [38 62 10 46  7]\n",
                        " [32 53 38 10 69]\n",
                        " [69 54 11 85 57]\n",
                        " [28 14 83  5 96]] \n",
                        "\n",
                        "[[31 44 20 29 78]\n",
                        " [32 53 38 10 69]\n",
                        " [28 14 83  5 96]] \n",
                        "\n",
                        "[[28 14 20  5 69]\n",
                        " [31 44 38 10 78]\n",
                        " [32 53 83 29 96]] \n",
                        "\n"
                    ]
                },
                {
                    "output_type": "execute_result",
                    "data": {
                        "text/plain": [
                            "array([[28, 14, 20,  5, 69],\n",
                            "       [38, 62, 10, 46,  7],\n",
                            "       [31, 44, 38, 10, 78],\n",
                            "       [69, 54, 11, 85, 57],\n",
                            "       [32, 53, 83, 29, 96]])"
                        ]
                    },
                    "metadata": {},
                    "execution_count": 35
                }
            ],
            "metadata": {}
        },
        {
            "cell_type": "code",
            "execution_count": 36,
            "source": [
                "range(10)"
            ],
            "outputs": [
                {
                    "output_type": "execute_result",
                    "data": {
                        "text/plain": [
                            "range(0, 10)"
                        ]
                    },
                    "metadata": {},
                    "execution_count": 36
                }
            ],
            "metadata": {}
        }
    ],
    "metadata": {
        "orig_nbformat": 4,
        "language_info": {
            "name": "python",
            "version": "3.8.10",
            "mimetype": "text/x-python",
            "codemirror_mode": {
                "name": "ipython",
                "version": 3
            },
            "pygments_lexer": "ipython3",
            "nbconvert_exporter": "python",
            "file_extension": ".py"
        },
        "kernelspec": {
            "name": "python3",
            "display_name": "Python 3.8.10 64-bit ('base': conda)"
        },
        "interpreter": {
            "hash": "5a713242f0e871a0d57880ff72c0594a2d4faa5f69c770498a9899086694f7ed"
        }
    },
    "nbformat": 4,
    "nbformat_minor": 2
}