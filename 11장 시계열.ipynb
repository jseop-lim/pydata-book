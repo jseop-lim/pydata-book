{
 "cells": [
  {
   "cell_type": "markdown",
   "id": "990cb820",
   "metadata": {},
   "source": [
    "## 11.1 날짜, 시간 자료형, 도구"
   ]
  },
  {
   "cell_type": "code",
   "execution_count": 7,
   "id": "6befdfc8",
   "metadata": {},
   "outputs": [],
   "source": [
    "from datetime import datetime, timedelta\n",
    "import pandas as pd"
   ]
  },
  {
   "cell_type": "code",
   "execution_count": 8,
   "id": "0b2d4fe9",
   "metadata": {},
   "outputs": [
    {
     "data": {
      "text/plain": [
       "datetime.datetime(2021, 1, 16, 0, 0, 20)"
      ]
     },
     "execution_count": 8,
     "metadata": {},
     "output_type": "execute_result"
    }
   ],
   "source": [
    "dt1 = datetime(2021, 1, 15)\n",
    "td1 = timedelta(1, 20)\n",
    "\n",
    "dt1 + td1"
   ]
  },
  {
   "cell_type": "code",
   "execution_count": 9,
   "id": "b63c535a",
   "metadata": {},
   "outputs": [
    {
     "ename": "TypeError",
     "evalue": "unsupported operand type(s) for +: 'datetime.datetime' and 'datetime.datetime'",
     "output_type": "error",
     "traceback": [
      "\u001b[1;31m---------------------------------------------------------------------------\u001b[0m",
      "\u001b[1;31mTypeError\u001b[0m                                 Traceback (most recent call last)",
      "\u001b[1;32m<ipython-input-9-9a23af44726e>\u001b[0m in \u001b[0;36m<module>\u001b[1;34m\u001b[0m\n\u001b[1;32m----> 1\u001b[1;33m \u001b[0mdt1\u001b[0m \u001b[1;33m+\u001b[0m \u001b[0mdt1\u001b[0m\u001b[1;33m\u001b[0m\u001b[1;33m\u001b[0m\u001b[0m\n\u001b[0m\u001b[0;32m      2\u001b[0m \u001b[1;31m# TypeError: unsupported operand type(s) for +: 'datetime.datetime' and 'datetime.datetime'\u001b[0m\u001b[1;33m\u001b[0m\u001b[1;33m\u001b[0m\u001b[1;33m\u001b[0m\u001b[0m\n",
      "\u001b[1;31mTypeError\u001b[0m: unsupported operand type(s) for +: 'datetime.datetime' and 'datetime.datetime'"
     ]
    }
   ],
   "source": [
    "dt1 + dt1\n",
    "# TypeError: unsupported operand type(s) for +: 'datetime.datetime' and 'datetime.datetime'"
   ]
  },
  {
   "cell_type": "code",
   "execution_count": 15,
   "id": "f5db122b",
   "metadata": {},
   "outputs": [
    {
     "data": {
      "text/plain": [
       "DatetimeIndex(['2021-02-28', '2022-02-28', '2023-02-28', '2024-02-29',\n",
       "               '2025-02-28'],\n",
       "              dtype='datetime64[ns]', freq='A-FEB')"
      ]
     },
     "execution_count": 15,
     "metadata": {},
     "output_type": "execute_result"
    }
   ],
   "source": [
    "pd.date_range('2021-1-20', periods=5, freq='A-FEB')"
   ]
  },
  {
   "cell_type": "code",
   "execution_count": 20,
   "id": "0093dc2c",
   "metadata": {},
   "outputs": [
    {
     "data": {
      "text/plain": [
       "DatetimeIndex(['2021-04-30', '2021-07-31', '2021-10-31', '2022-01-31',\n",
       "               '2022-04-30'],\n",
       "              dtype='datetime64[ns]', freq='Q-JAN')"
      ]
     },
     "execution_count": 20,
     "metadata": {},
     "output_type": "execute_result"
    }
   ],
   "source": [
    "pd.date_range('2021-2-20', periods=5, freq='Q-JAN')"
   ]
  },
  {
   "cell_type": "code",
   "execution_count": 32,
   "id": "5a780e5b",
   "metadata": {},
   "outputs": [
    {
     "data": {
      "text/plain": [
       "DatetimeIndex(['2009-02-28', '2009-03-31', '2009-04-30', '2009-05-31',\n",
       "               '2009-06-30', '2009-07-31', '2009-08-31', '2009-09-30',\n",
       "               '2009-10-31', '2009-11-30', '2009-12-31', '2010-01-31',\n",
       "               '2010-02-28', '2010-03-31', '2010-04-30', '2010-05-31',\n",
       "               '2010-06-30', '2010-07-31', '2010-08-31', '2010-09-30',\n",
       "               '2010-10-31', '2010-11-30', '2010-12-31', '2011-01-31',\n",
       "               '2011-02-28'],\n",
       "              dtype='datetime64[ns]', freq='M')"
      ]
     },
     "execution_count": 32,
     "metadata": {},
     "output_type": "execute_result"
    }
   ],
   "source": [
    "pd.date_range('2009-2', '2011-3', freq='M')"
   ]
  },
  {
   "cell_type": "code",
   "execution_count": 36,
   "id": "27a70194",
   "metadata": {},
   "outputs": [
    {
     "data": {
      "text/plain": [
       "PeriodIndex(['2021Q3', '2021Q4', '2022Q1', '2022Q2', '2022Q3'], dtype='period[Q-DEC]', freq='Q-DEC')"
      ]
     },
     "execution_count": 36,
     "metadata": {},
     "output_type": "execute_result"
    }
   ],
   "source": [
    "pd.period_range('2021-8-11', periods=5, freq='Q-DEC')"
   ]
  },
  {
   "cell_type": "code",
   "execution_count": 43,
   "id": "07c3a1b6",
   "metadata": {},
   "outputs": [
    {
     "ename": "AttributeError",
     "evalue": "'Period' object has no attribute 'value'",
     "output_type": "error",
     "traceback": [
      "\u001b[1;31m---------------------------------------------------------------------------\u001b[0m",
      "\u001b[1;31mAttributeError\u001b[0m                            Traceback (most recent call last)",
      "\u001b[1;32m<ipython-input-43-ebc7e3e7505d>\u001b[0m in \u001b[0;36m<module>\u001b[1;34m\u001b[0m\n\u001b[1;32m----> 1\u001b[1;33m \u001b[0mpd\u001b[0m\u001b[1;33m.\u001b[0m\u001b[0mPeriod\u001b[0m\u001b[1;33m(\u001b[0m\u001b[1;36m2008\u001b[0m\u001b[1;33m,\u001b[0m \u001b[0mfreq\u001b[0m\u001b[1;33m=\u001b[0m\u001b[1;34m'A-FEB'\u001b[0m\u001b[1;33m)\u001b[0m\u001b[1;33m.\u001b[0m\u001b[0mvalue\u001b[0m\u001b[1;33m\u001b[0m\u001b[1;33m\u001b[0m\u001b[0m\n\u001b[0m",
      "\u001b[1;31mAttributeError\u001b[0m: 'Period' object has no attribute 'value'"
     ]
    }
   ],
   "source": [
    "pd.Period(2008, freq='A-FEB').value"
   ]
  },
  {
   "cell_type": "code",
   "execution_count": null,
   "id": "85ceaf76",
   "metadata": {},
   "outputs": [],
   "source": []
  }
 ],
 "metadata": {
  "kernelspec": {
   "display_name": "Python 3",
   "language": "python",
   "name": "python3"
  },
  "language_info": {
   "codemirror_mode": {
    "name": "ipython",
    "version": 3
   },
   "file_extension": ".py",
   "mimetype": "text/x-python",
   "name": "python",
   "nbconvert_exporter": "python",
   "pygments_lexer": "ipython3",
   "version": "3.8.10"
  },
  "toc": {
   "base_numbering": 1,
   "nav_menu": {},
   "number_sections": true,
   "sideBar": true,
   "skip_h1_title": false,
   "title_cell": "Table of Contents",
   "title_sidebar": "Contents",
   "toc_cell": false,
   "toc_position": {},
   "toc_section_display": true,
   "toc_window_display": false
  },
  "varInspector": {
   "cols": {
    "lenName": 16,
    "lenType": 16,
    "lenVar": 40
   },
   "kernels_config": {
    "python": {
     "delete_cmd_postfix": "",
     "delete_cmd_prefix": "del ",
     "library": "var_list.py",
     "varRefreshCmd": "print(var_dic_list())"
    },
    "r": {
     "delete_cmd_postfix": ") ",
     "delete_cmd_prefix": "rm(",
     "library": "var_list.r",
     "varRefreshCmd": "cat(var_dic_list()) "
    }
   },
   "types_to_exclude": [
    "module",
    "function",
    "builtin_function_or_method",
    "instance",
    "_Feature"
   ],
   "window_display": false
  }
 },
 "nbformat": 4,
 "nbformat_minor": 5
}
